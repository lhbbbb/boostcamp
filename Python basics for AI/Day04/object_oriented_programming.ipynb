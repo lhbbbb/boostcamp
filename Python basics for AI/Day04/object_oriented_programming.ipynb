{
 "cells": [
  {
   "cell_type": "markdown",
   "id": "essential-wilson",
   "metadata": {},
   "source": [
    "# 파이썬을 개발하는 방법\n",
    "## 객체지향 프로그래밍의 개요\n",
    "- 객체: 실생활에서 일종의 물건. 속성과 행동을 가짐\n",
    "- OOP는 이러한 객체 개념을 프로그램으로 표현. 속성은 변수, 행동은 함수로 표현됨\n",
    "- 파이썬은 객체 지향 프로그램 언어\n",
    "\n",
    "### OOP\n",
    "OOP는 설계도에 해당하는 클래스와 실제 구현체인 인스턴스로 나눔"
   ]
  },
  {
   "cell_type": "markdown",
   "id": "spiritual-scanner",
   "metadata": {},
   "source": [
    "## class 구현하기\n",
    "### class 선언\n",
    "- class 선언, object는 python3에서 자동 상속된다.\n",
    "`class [class 이름]([상속받는 객체명])` 형식으로 선언한다.\n",
    "\n",
    "### Attribute 추가\n",
    "- Attribute 추가는 `__init__, self`와 함께한다. `__init__`은 생성자 함수이다\n",
    "- 파이썬에서 `__`의 의미는 특수한 예약함수나 변수 그리고 함수명 변경으로 사용한다\n",
    "    - ex) `__main__, __add__, __str__, __repr__, __eq__`"
   ]
  },
  {
   "cell_type": "code",
   "execution_count": 1,
   "id": "needed-survival",
   "metadata": {},
   "outputs": [],
   "source": [
    "class BasketballPlayer(object):\n",
    "    def __init__(self, name, position):\n",
    "        self.name = name\n",
    "        self.position = position"
   ]
  },
  {
   "cell_type": "markdown",
   "id": "ultimate-judgment",
   "metadata": {},
   "source": [
    "### method 구현\n",
    "- method 추가는 기존 함수와 같으나, 반드시 `self`를 추가해야 class의 함수로 인정된다.  \n",
    "\n",
    "> self가 없으면 어떻게 될까? java나 C++의 멤버함수와 비교해봐야겠다."
   ]
  },
  {
   "cell_type": "code",
   "execution_count": 2,
   "id": "adjacent-outside",
   "metadata": {},
   "outputs": [],
   "source": [
    "class BasketballPlayer(object):\n",
    "    def __init__(self, name, position):\n",
    "        self.name = name\n",
    "        self.position = position\n",
    "        \n",
    "    def change_position(self, position):\n",
    "        print(f\"포지션을 변경합니다. : {self.position} => {position}\")\n",
    "        self.position = position"
   ]
  },
  {
   "cell_type": "markdown",
   "id": "downtown-eagle",
   "metadata": {},
   "source": [
    "### instance 사용하기\n",
    "Object 이름 선언과 함께 초기값을 입력한다. 초기값 입력 후에는 클래스의 함수를 사용해본다."
   ]
  },
  {
   "cell_type": "code",
   "execution_count": 3,
   "id": "complicated-florence",
   "metadata": {},
   "outputs": [
    {
     "name": "stdout",
     "output_type": "stream",
     "text": [
      "포지션을 변경합니다. : SG => PG\n"
     ]
    }
   ],
   "source": [
    "Jordan = BasketballPlayer(\"Jordan\", \"SG\")\n",
    "Jordan.change_position(\"PG\")"
   ]
  },
  {
   "cell_type": "markdown",
   "id": "pharmaceutical-postcard",
   "metadata": {},
   "source": [
    "## 객체 지향 언어의 특징\n",
    "### 상속(Inheritance)\n",
    "- 부모클래스부터 속성과 Method를 물려받은 자식 클래스를 생성하는 것\n",
    "\n",
    "### 다형성(Polymorphism)\n",
    "- 같은 이름 메소드의 내부 로직을 다르게 작성\n",
    "- Dynamic Typing 특성으로 인해 파이썬에서는 같은 부모클래스의 상속에서 주로 발생"
   ]
  },
  {
   "cell_type": "code",
   "execution_count": 4,
   "id": "martial-dominant",
   "metadata": {},
   "outputs": [
    {
     "name": "stdout",
     "output_type": "stream",
     "text": [
      "Missy: Meow!\n",
      "DongDong: Meow!\n",
      "lolo: Wall! Wall!\n"
     ]
    }
   ],
   "source": [
    "class Animal:\n",
    "    def __init__(self, name):\n",
    "        self.name = name\n",
    "    \n",
    "    def say(self):\n",
    "        raise NotImplementedError(\"Subclass must implement abstract method\")\n",
    "        \n",
    "class Cat(Animal):\n",
    "    def say(self):\n",
    "        return \"Meow!\"\n",
    "\n",
    "    \n",
    "class Dog(Animal):\n",
    "    def say(self):\n",
    "        return 'Wall! Wall!'\n",
    "\n",
    "class Horse(Animal):\n",
    "    pass\n",
    "\n",
    "animals = [Cat('Missy'), Cat('DongDong'), Dog('lolo')]\n",
    "\n",
    "for ani in animals:\n",
    "    print(f\"{ani.name}: {ani.say()}\")"
   ]
  },
  {
   "cell_type": "code",
   "execution_count": 5,
   "id": "southeast-oliver",
   "metadata": {},
   "outputs": [
    {
     "ename": "NotImplementedError",
     "evalue": "Subclass must implement abstract method",
     "output_type": "error",
     "traceback": [
      "\u001b[1;31m---------------------------------------------------------------------------\u001b[0m",
      "\u001b[1;31mNotImplementedError\u001b[0m                       Traceback (most recent call last)",
      "\u001b[1;32m<ipython-input-5-7da8b39154e9>\u001b[0m in \u001b[0;36m<module>\u001b[1;34m\u001b[0m\n\u001b[0;32m      1\u001b[0m \u001b[0manimal\u001b[0m \u001b[1;33m=\u001b[0m \u001b[0mHorse\u001b[0m\u001b[1;33m(\u001b[0m\u001b[1;34m'lala'\u001b[0m\u001b[1;33m)\u001b[0m\u001b[1;33m\u001b[0m\u001b[1;33m\u001b[0m\u001b[0m\n\u001b[1;32m----> 2\u001b[1;33m \u001b[0mprint\u001b[0m\u001b[1;33m(\u001b[0m\u001b[1;34mf'{animal.name}: {animal.say()}'\u001b[0m\u001b[1;33m)\u001b[0m\u001b[1;33m\u001b[0m\u001b[1;33m\u001b[0m\u001b[0m\n\u001b[0m",
      "\u001b[1;32m<ipython-input-4-651fc7d00cf9>\u001b[0m in \u001b[0;36msay\u001b[1;34m(self)\u001b[0m\n\u001b[0;32m      4\u001b[0m \u001b[1;33m\u001b[0m\u001b[0m\n\u001b[0;32m      5\u001b[0m     \u001b[1;32mdef\u001b[0m \u001b[0msay\u001b[0m\u001b[1;33m(\u001b[0m\u001b[0mself\u001b[0m\u001b[1;33m)\u001b[0m\u001b[1;33m:\u001b[0m\u001b[1;33m\u001b[0m\u001b[1;33m\u001b[0m\u001b[0m\n\u001b[1;32m----> 6\u001b[1;33m         \u001b[1;32mraise\u001b[0m \u001b[0mNotImplementedError\u001b[0m\u001b[1;33m(\u001b[0m\u001b[1;34m\"Subclass must implement abstract method\"\u001b[0m\u001b[1;33m)\u001b[0m\u001b[1;33m\u001b[0m\u001b[1;33m\u001b[0m\u001b[0m\n\u001b[0m\u001b[0;32m      7\u001b[0m \u001b[1;33m\u001b[0m\u001b[0m\n\u001b[0;32m      8\u001b[0m \u001b[1;32mclass\u001b[0m \u001b[0mCat\u001b[0m\u001b[1;33m(\u001b[0m\u001b[0mAnimal\u001b[0m\u001b[1;33m)\u001b[0m\u001b[1;33m:\u001b[0m\u001b[1;33m\u001b[0m\u001b[1;33m\u001b[0m\u001b[0m\n",
      "\u001b[1;31mNotImplementedError\u001b[0m: Subclass must implement abstract method"
     ]
    }
   ],
   "source": [
    "animal = Horse('lala')\n",
    "print(f'{animal.name}: {animal.say()}')"
   ]
  },
  {
   "cell_type": "markdown",
   "id": "collect-cable",
   "metadata": {},
   "source": [
    "### 가시성(Visibility)\n",
    "- 객체의 정보를 볼 수 있는 레벨을 조절\n",
    "- 누구나 객체 안의 모든 변수를 볼 필요는 없음  "
   ]
  },
  {
   "cell_type": "code",
   "execution_count": 6,
   "id": "sustainable-closure",
   "metadata": {},
   "outputs": [
    {
     "name": "stdout",
     "output_type": "stream",
     "text": [
      "new item added\n",
      "new item added\n",
      "2\n",
      "[<__main__.Product object at 0x000001D89D7E2070>, <__main__.Product object at 0x000001D89D7E2130>]\n"
     ]
    },
    {
     "ename": "AttributeError",
     "evalue": "'Inventory' object has no attribute '__items'",
     "output_type": "error",
     "traceback": [
      "\u001b[1;31m---------------------------------------------------------------------------\u001b[0m",
      "\u001b[1;31mAttributeError\u001b[0m                            Traceback (most recent call last)",
      "\u001b[1;32m<ipython-input-6-c5719732de56>\u001b[0m in \u001b[0;36m<module>\u001b[1;34m\u001b[0m\n\u001b[0;32m     28\u001b[0m \u001b[0mprint\u001b[0m\u001b[1;33m(\u001b[0m\u001b[0mmy_inventory\u001b[0m\u001b[1;33m.\u001b[0m\u001b[0mget_number_of_items\u001b[0m\u001b[1;33m(\u001b[0m\u001b[1;33m)\u001b[0m\u001b[1;33m)\u001b[0m\u001b[1;33m\u001b[0m\u001b[1;33m\u001b[0m\u001b[0m\n\u001b[0;32m     29\u001b[0m \u001b[0mprint\u001b[0m\u001b[1;33m(\u001b[0m\u001b[0mmy_inventory\u001b[0m\u001b[1;33m.\u001b[0m\u001b[0m_Inventory__items\u001b[0m\u001b[1;33m)\u001b[0m\u001b[1;33m\u001b[0m\u001b[1;33m\u001b[0m\u001b[0m\n\u001b[1;32m---> 30\u001b[1;33m \u001b[0mprint\u001b[0m\u001b[1;33m(\u001b[0m\u001b[0mmy_inventory\u001b[0m\u001b[1;33m.\u001b[0m\u001b[0m__items\u001b[0m\u001b[1;33m)\u001b[0m\u001b[1;33m\u001b[0m\u001b[1;33m\u001b[0m\u001b[0m\n\u001b[0m",
      "\u001b[1;31mAttributeError\u001b[0m: 'Inventory' object has no attribute '__items'"
     ]
    }
   ],
   "source": [
    "\"\"\"\n",
    "ex)\n",
    "- Product 객체를 Inventory 객체에 추가\n",
    "- Inventory에는 오직 Product 객체만 들어감\n",
    "- Inventory에 Product가 몇 개인지 확인 필요\n",
    "- Inventory에 Product items는 직접 접근이 불가\n",
    "\"\"\"\n",
    "class Product:\n",
    "    pass\n",
    "\n",
    "class Inventory:\n",
    "    def __init__(self):\n",
    "        self.__items = [] # Private 변수로 선언하여 타객체가 접근 못하게 한다.\n",
    "        \n",
    "    def add_item(self, product):\n",
    "        if type(product) == Product:\n",
    "            self.__items.append(product)\n",
    "            print(\"new item added\")\n",
    "        else:\n",
    "            raise ValueError(\"Invalid Item\")\n",
    "    \n",
    "    def get_number_of_items(self):\n",
    "        return len(self.__items)\n",
    "    \n",
    "my_inventory = Inventory()\n",
    "my_inventory.add_item(Product())\n",
    "my_inventory.add_item(Product())\n",
    "print(my_inventory.get_number_of_items())\n",
    "print(my_inventory._Inventory__items)\n",
    "print(my_inventory.__items)"
   ]
  },
  {
   "cell_type": "markdown",
   "id": "failing-duplicate",
   "metadata": {},
   "source": [
    "Private으로 설정한 `__items` 변수에 접근이 불가한 것을 볼 수 있다. 하지만 파이썬에서는 다른 언어들의 Private 속성처럼 완전히 차단한게 아니라 `_[class명][변수명]`을 써주면 접근이 가능하긴 하다."
   ]
  },
  {
   "cell_type": "code",
   "execution_count": 7,
   "id": "russian-kentucky",
   "metadata": {},
   "outputs": [
    {
     "ename": "ValueError",
     "evalue": "Invalid Item",
     "output_type": "error",
     "traceback": [
      "\u001b[1;31m---------------------------------------------------------------------------\u001b[0m",
      "\u001b[1;31mValueError\u001b[0m                                Traceback (most recent call last)",
      "\u001b[1;32m<ipython-input-7-b4de0a627f28>\u001b[0m in \u001b[0;36m<module>\u001b[1;34m\u001b[0m\n\u001b[1;32m----> 1\u001b[1;33m \u001b[0mmy_inventory\u001b[0m\u001b[1;33m.\u001b[0m\u001b[0madd_item\u001b[0m\u001b[1;33m(\u001b[0m\u001b[0mobject\u001b[0m\u001b[1;33m)\u001b[0m\u001b[1;33m\u001b[0m\u001b[1;33m\u001b[0m\u001b[0m\n\u001b[0m",
      "\u001b[1;32m<ipython-input-6-c5719732de56>\u001b[0m in \u001b[0;36madd_item\u001b[1;34m(self, product)\u001b[0m\n\u001b[0;32m     18\u001b[0m             \u001b[0mprint\u001b[0m\u001b[1;33m(\u001b[0m\u001b[1;34m\"new item added\"\u001b[0m\u001b[1;33m)\u001b[0m\u001b[1;33m\u001b[0m\u001b[1;33m\u001b[0m\u001b[0m\n\u001b[0;32m     19\u001b[0m         \u001b[1;32melse\u001b[0m\u001b[1;33m:\u001b[0m\u001b[1;33m\u001b[0m\u001b[1;33m\u001b[0m\u001b[0m\n\u001b[1;32m---> 20\u001b[1;33m             \u001b[1;32mraise\u001b[0m \u001b[0mValueError\u001b[0m\u001b[1;33m(\u001b[0m\u001b[1;34m\"Invalid Item\"\u001b[0m\u001b[1;33m)\u001b[0m\u001b[1;33m\u001b[0m\u001b[1;33m\u001b[0m\u001b[0m\n\u001b[0m\u001b[0;32m     21\u001b[0m \u001b[1;33m\u001b[0m\u001b[0m\n\u001b[0;32m     22\u001b[0m     \u001b[1;32mdef\u001b[0m \u001b[0mget_number_of_items\u001b[0m\u001b[1;33m(\u001b[0m\u001b[0mself\u001b[0m\u001b[1;33m)\u001b[0m\u001b[1;33m:\u001b[0m\u001b[1;33m\u001b[0m\u001b[1;33m\u001b[0m\u001b[0m\n",
      "\u001b[1;31mValueError\u001b[0m: Invalid Item"
     ]
    }
   ],
   "source": [
    "my_inventory.add_item(object)"
   ]
  },
  {
   "cell_type": "code",
   "execution_count": 17,
   "id": "certified-performance",
   "metadata": {},
   "outputs": [
    {
     "name": "stdout",
     "output_type": "stream",
     "text": [
      "[]\n",
      "[1, 2, 3]\n"
     ]
    }
   ],
   "source": [
    "\"\"\"\n",
    "ex2)\n",
    "- Product 객체를 Inventory 객체에 추가\n",
    "- Inventory에는 오직 Product 객체만 들어감\n",
    "- Inventory에 Product가 몇 개인지 확인 필요\n",
    "- Inventory에 Product items 접근 허용\n",
    "\"\"\"\n",
    "class Inventory:\n",
    "    def __init__(self):\n",
    "        self.__items = [] # Private 변수로 선언하여 타객체가 접근 못하게 한다.\n",
    "        \n",
    "    @property # 숨겨진 변수를 반환하게 해준다. 다른 언어의 getter와 역할이 같다.\n",
    "    def items(self):\n",
    "        return self.__items\n",
    "    \n",
    "    @items.setter # setter와 같은 기능. 외부에서 값을 할당할 때 'instance.items = 값' 처럼 사용하면 된다.\n",
    "    def items(self, items):\n",
    "        self.__items = items\n",
    "        \n",
    "    def add_item(self, product):\n",
    "        if type(product) == Product:\n",
    "            self.__items.append(product)\n",
    "            print(\"new item added\")\n",
    "        else:\n",
    "            raise ValueError(\"Invalid Item\")\n",
    "    \n",
    "    def get_number_of_items(self):\n",
    "        return len(self.__items)\n",
    "    \n",
    "my_inventory = Inventory()\n",
    "print(my_inventory.items) # property decorator로 함수를 변수처럼 호출한다.\n",
    "my_inventory.items = [1,2,3] # setter로 새로운 값을 할당한다.\n",
    "print(my_inventory.items)"
   ]
  },
  {
   "cell_type": "markdown",
   "id": "realistic-linux",
   "metadata": {},
   "source": [
    "## first-class objects inner function decorator\n",
    "### first-class objects\n",
    "- 일등함수 또는 일급 객체\n",
    "- 변수나 데이터 구조에 할당이 가능한 객체\n",
    "- 파라미터로 전달이 가능 + 리턴 값으로 사용\n",
    "- 파이썬의 함수는 일급함수"
   ]
  },
  {
   "cell_type": "code",
   "execution_count": 18,
   "id": "proud-profile",
   "metadata": {},
   "outputs": [
    {
     "data": {
      "text/plain": [
       "25"
      ]
     },
     "execution_count": 18,
     "metadata": {},
     "output_type": "execute_result"
    }
   ],
   "source": [
    "def square(x):\n",
    "    return x * x\n",
    "\n",
    "f = square\n",
    "f(5)"
   ]
  },
  {
   "cell_type": "markdown",
   "id": "forward-favorite",
   "metadata": {},
   "source": [
    "### inner function\n",
    "- 함수 내에 또다른 함수가 존재\n",
    "\n",
    "#### closures\n",
    "inner function을 return 값으로 반환"
   ]
  },
  {
   "cell_type": "code",
   "execution_count": 19,
   "id": "understood-captain",
   "metadata": {},
   "outputs": [
    {
     "name": "stdout",
     "output_type": "stream",
     "text": [
      "Hi\n"
     ]
    }
   ],
   "source": [
    "def print_msg(msg):\n",
    "    def printer():\n",
    "        print(msg)\n",
    "    return printer\n",
    "\n",
    "other = print_msg(\"Hi\")\n",
    "other()"
   ]
  },
  {
   "cell_type": "markdown",
   "id": "aware-desktop",
   "metadata": {},
   "source": [
    "#### decorator function\n",
    "복잡한 클로저 함수를 간단하게 구현!"
   ]
  },
  {
   "cell_type": "code",
   "execution_count": 20,
   "id": "japanese-connectivity",
   "metadata": {},
   "outputs": [
    {
     "name": "stdout",
     "output_type": "stream",
     "text": [
      "******************************\n",
      "Hi\n",
      "******************************\n"
     ]
    }
   ],
   "source": [
    "def star(func):\n",
    "    def inner(*args, **kwargs):\n",
    "        print(\"*\" * 30)\n",
    "        func(*args, **kwargs)\n",
    "        print(\"*\" * 30)\n",
    "    return inner\n",
    "\n",
    "@star\n",
    "def printer(msg):\n",
    "    print(msg)\n",
    "\n",
    "printer(\"Hi\")"
   ]
  },
  {
   "cell_type": "code",
   "execution_count": 21,
   "id": "monetary-barcelona",
   "metadata": {},
   "outputs": [
    {
     "name": "stdout",
     "output_type": "stream",
     "text": [
      "******************************\n",
      "%%%%%%%%%%%%%%%%%%%%%%%%%%%%%%\n",
      "Hi\n",
      "%%%%%%%%%%%%%%%%%%%%%%%%%%%%%%\n",
      "******************************\n"
     ]
    }
   ],
   "source": [
    "def star(func):\n",
    "    def inner(*args, **kwargs):\n",
    "        print(\"*\" * 30)\n",
    "        func(*args, **kwargs)\n",
    "        print(\"*\" * 30)\n",
    "    return inner\n",
    "\n",
    "def percent(func):\n",
    "    def inner(*args, **kwargs):\n",
    "        print(\"%\" * 30)\n",
    "        func(*args, **kwargs)\n",
    "        print(\"%\" * 30)\n",
    "    return inner\n",
    "\n",
    "@star\n",
    "@percent\n",
    "def printer(msg):\n",
    "    print(msg)\n",
    "\n",
    "printer(\"Hi\")"
   ]
  }
 ],
 "metadata": {
  "kernelspec": {
   "display_name": "Python 3",
   "language": "python",
   "name": "python3"
  },
  "language_info": {
   "codemirror_mode": {
    "name": "ipython",
    "version": 3
   },
   "file_extension": ".py",
   "mimetype": "text/x-python",
   "name": "python",
   "nbconvert_exporter": "python",
   "pygments_lexer": "ipython3",
   "version": "3.8.5"
  }
 },
 "nbformat": 4,
 "nbformat_minor": 5
}
