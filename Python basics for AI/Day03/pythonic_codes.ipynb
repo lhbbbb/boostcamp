{
 "cells": [
  {
   "cell_type": "markdown",
   "id": "marine-pierce",
   "metadata": {},
   "source": [
    "# Pythonic Code\n",
    "## 개요\n",
    "- 파이썬 스타일의 코딩 기법\n",
    "- 파이썬 특유의 문법을 활용하여 효율적으로 코드를 표현\n",
    "- 하지만 더 이상 파이썬 특유는 아님. 많은 언어들이 서로의 장점을 채용하고 있기 때문\n",
    "- 고급 코드를 작성할수록 더 많이 필요해짐  \n",
    "\n",
    "파이썬 스타일의 코드에는 아래와 같은 것들이 있다.\n",
    "- split & join\n",
    "- list comprehension\n",
    "- enumerate & zip\n",
    "- lambda & map & reduce\n",
    "- generator\n",
    "- asterisk"
   ]
  },
  {
   "cell_type": "markdown",
   "id": "respective-grade",
   "metadata": {},
   "source": [
    "## list comprehension\n",
    "기존 list를 사용하여 간단히 다른 list를 만드는 기법으로 파이썬에서 가장 많이 사용되는 기법 중 하나이다.  \n",
    "일반적으로 for + append 보다 속도가 빠르다."
   ]
  },
  {
   "cell_type": "code",
   "execution_count": 1,
   "id": "celtic-borough",
   "metadata": {},
   "outputs": [
    {
     "name": "stdout",
     "output_type": "stream",
     "text": [
      "720 µs ± 2.19 µs per loop (mean ± std. dev. of 7 runs, 1000 loops each)\n"
     ]
    }
   ],
   "source": [
    "def g_lst():\n",
    "    res = []\n",
    "    for i in range(10000):\n",
    "        res.append(i)\n",
    "    \n",
    "%timeit g_lst()"
   ]
  },
  {
   "cell_type": "code",
   "execution_count": 2,
   "id": "partial-samuel",
   "metadata": {},
   "outputs": [
    {
     "name": "stdout",
     "output_type": "stream",
     "text": [
      "383 µs ± 5.9 µs per loop (mean ± std. dev. of 7 runs, 1000 loops each)\n"
     ]
    }
   ],
   "source": [
    "def lst_comp():\n",
    "    res = [x for x in range(10000)]\n",
    "    \n",
    "%timeit lst_comp()"
   ]
  },
  {
   "cell_type": "markdown",
   "id": "reported-psychiatry",
   "metadata": {},
   "source": [
    "list를 2차원 형태로 만들고 싶으면 다음과 같이 하면 된다."
   ]
  },
  {
   "cell_type": "code",
   "execution_count": 3,
   "id": "intensive-paste",
   "metadata": {},
   "outputs": [
    {
     "name": "stdout",
     "output_type": "stream",
     "text": [
      "[0, 1, 2, 3, 4]\n",
      "[0, 1, 2, 3, 4]\n",
      "[0, 1, 2, 3, 4]\n",
      "[0, 1, 2, 3, 4]\n",
      "[0, 1, 2, 3, 4]\n"
     ]
    }
   ],
   "source": [
    "lst = [[x for x in range(5)] for _ in range(5)]\n",
    "for row in lst:\n",
    "    print(row)"
   ]
  },
  {
   "cell_type": "markdown",
   "id": "capable-springer",
   "metadata": {},
   "source": [
    "## lambda & map & reduce\n",
    "lambda, reduce는 간단한 코드로 다양한 기능을 제공하지만, 코드의 직관성이 떨어져 python3 에서는 사용을 권장하지 않는다.  \n",
    "하지만 legacy library나 다양한 머신러닝 코드들에서 여전히 사용중이기 때문에 알아두는 것이 좋다.\n",
    "### lambda\n",
    "- 함수 이름 없이, 함수처럼 쓸 수 있는 익명함수\n",
    "- python 3 부터는 권장하지 않으나 여전히 많이 쓰이기 때문에 알고 있는 것이 좋다"
   ]
  },
  {
   "cell_type": "code",
   "execution_count": 4,
   "id": "brutal-naples",
   "metadata": {},
   "outputs": [
    {
     "name": "stdout",
     "output_type": "stream",
     "text": [
      "3\n"
     ]
    }
   ],
   "source": [
    "f = lambda x, y: x + y\n",
    "print(f(1,2))"
   ]
  },
  {
   "cell_type": "markdown",
   "id": "published-leadership",
   "metadata": {},
   "source": [
    "### map\n",
    "- 실행시점의 값을 생성해서, 메모리 효율적이다"
   ]
  },
  {
   "cell_type": "code",
   "execution_count": 5,
   "id": "signed-english",
   "metadata": {},
   "outputs": [
    {
     "name": "stdout",
     "output_type": "stream",
     "text": [
      "<map object at 0x0000017526662E80>\n",
      "[1, 4, 9, 16, 25]\n"
     ]
    }
   ],
   "source": [
    "lst = [1,2,3,4,5]\n",
    "print(map(lambda x: x**2, lst))\n",
    "print(list(map(lambda x: x**2, lst)))"
   ]
  },
  {
   "cell_type": "markdown",
   "id": "subtle-breath",
   "metadata": {},
   "source": [
    "### reduce\n",
    "- map function과 달리 list에 똑같은 함수를 적용해서 통합한다"
   ]
  },
  {
   "cell_type": "code",
   "execution_count": 6,
   "id": "final-probe",
   "metadata": {},
   "outputs": [
    {
     "name": "stdout",
     "output_type": "stream",
     "text": [
      "15\n"
     ]
    }
   ],
   "source": [
    "from functools import reduce\n",
    "print(reduce(lambda x, y: x + y, lst))"
   ]
  },
  {
   "cell_type": "markdown",
   "id": "white-brighton",
   "metadata": {},
   "source": [
    "## iterable object\n",
    "sequence형 자료형에서 데이터를 순서대로 추출하는 object\n",
    "## generator\n",
    "iterable object를 특수한 형태로 사용해주는 함수이다.  \n",
    "element가 사용되는 시점에 값을 메모리에 반환한다. `yield`를 사용해 한번에 하나의 element만 반환한다."
   ]
  },
  {
   "cell_type": "code",
   "execution_count": 18,
   "id": "regulation-collapse",
   "metadata": {},
   "outputs": [
    {
     "name": "stdout",
     "output_type": "stream",
     "text": [
      "[0, 1, 2, 3, 4]\n",
      "[0, 1, 2, 3, 4]\n"
     ]
    }
   ],
   "source": [
    "def generator_lst(v):\n",
    "    for i in range(v):\n",
    "        yield i\n",
    "\n",
    "def general_lst(v):\n",
    "    res = []\n",
    "    for i in range(v):\n",
    "        res.append(i)\n",
    "    \n",
    "    return res\n",
    "\n",
    "print(list(generator_lst(5)))\n",
    "\n",
    "print(general_lst(5))"
   ]
  },
  {
   "cell_type": "markdown",
   "id": "secure-purple",
   "metadata": {},
   "source": [
    "### generator comprehension\n",
    "- list comprehension과 유사한 형태로 generator 형태의 list를 생성한다\n",
    "- generator expression 이라는 이름으로도 부른다\n",
    "- []대신 ()를 사용하여 표현한다"
   ]
  },
  {
   "cell_type": "code",
   "execution_count": 14,
   "id": "chicken-wallpaper",
   "metadata": {},
   "outputs": [
    {
     "name": "stdout",
     "output_type": "stream",
     "text": [
      "<class 'generator'>\n",
      "[0, 1, 4, 9, 16, 25, 36, 49, 64, 81, 100, 121, 144, 169, 196, 225, 256, 289, 324, 361, 400, 441, 484, 529, 576, 625, 676, 729, 784, 841, 900, 961, 1024, 1089, 1156, 1225, 1296, 1369, 1444, 1521, 1600, 1681, 1764, 1849, 1936, 2025, 2116, 2209, 2304, 2401, 2500, 2601, 2704, 2809, 2916, 3025, 3136, 3249, 3364, 3481, 3600, 3721, 3844, 3969, 4096, 4225, 4356, 4489, 4624, 4761, 4900, 5041, 5184, 5329, 5476, 5625, 5776, 5929, 6084, 6241, 6400, 6561, 6724, 6889, 7056, 7225, 7396, 7569, 7744, 7921, 8100, 8281, 8464, 8649, 8836, 9025, 9216, 9409, 9604, 9801]\n"
     ]
    }
   ],
   "source": [
    "gen_ex = (x*x for x in range(100))\n",
    "print(type(gen_ex))\n",
    "print(list(gen_ex))"
   ]
  },
  {
   "cell_type": "markdown",
   "id": "distributed-contrast",
   "metadata": {},
   "source": [
    "일반적인 iterator object 들은 generator에 비해 훨씬 큰 메모리 용량을 사용한다.  \n",
    "따라서,\n",
    "- list 타입의 데이터를 반환해주는 함수는 generator로\n",
    "- 큰 데이터를 처리할 때는 generator expression을 고려\n",
    "- 파일 데이터를 처리할 때도 generator를 사용  \n",
    "\n",
    "하면 좋다."
   ]
  },
  {
   "cell_type": "markdown",
   "id": "painted-picture",
   "metadata": {},
   "source": [
    "## Function passing arguments\n",
    "함수에 입력되는 arguments에는 다양한 형태가 있다.\n",
    "1. keyword arguments\n",
    "2. default arguments\n",
    "3. variable-length arguments\n",
    "\n",
    "### variable-length arguments\n",
    "- 개수가 정해지지 않은 변수를 함수의 parameter로 사용하는 법\n",
    "- keyword arguments와 함께, argument 추가가 가능\n",
    "- Asterisk(*) 기호를 사용하여 함수의 parameter를 표시\n",
    "- 입력된 값은 tuple type으로 사용가능\n",
    "- 가변인자는 오직 한 개만 맨 마지막 parameter 위치에 사용가능"
   ]
  },
  {
   "cell_type": "code",
   "execution_count": 16,
   "id": "cross-astrology",
   "metadata": {},
   "outputs": [
    {
     "name": "stdout",
     "output_type": "stream",
     "text": [
      "15\n"
     ]
    }
   ],
   "source": [
    "def test(a, b, *args):\n",
    "    return a + b + sum(args)\n",
    "\n",
    "print(test(1,2,3,4,5))"
   ]
  },
  {
   "cell_type": "markdown",
   "id": "prospective-basis",
   "metadata": {},
   "source": [
    "#### 키워드 가변인자\n",
    "- Parameter 이름을 따로 지정하지 않고 입력하는 방법\n",
    "- asterisk(*) 두개를 사용하여 함수의 parameter를 표시함\n",
    "- 입력된 값은 dict type으로 사용가능\n",
    "- 가변인자는 오직 한 개만, 기존 가변인자 다음에 사용"
   ]
  },
  {
   "cell_type": "code",
   "execution_count": 17,
   "id": "aquatic-wagon",
   "metadata": {},
   "outputs": [
    {
     "name": "stdout",
     "output_type": "stream",
     "text": [
      "15\n",
      "{'first': 3, 'second': 4, 'third': 5}\n"
     ]
    }
   ],
   "source": [
    "def kwargs_test(a,b,*args,**kwargs):\n",
    "    print(a+b+sum(args))\n",
    "    print(kwargs)\n",
    "    \n",
    "kwargs_test(1,2,3,4,5,first=3,second=4,third=5)"
   ]
  }
 ],
 "metadata": {
  "kernelspec": {
   "display_name": "Python 3",
   "language": "python",
   "name": "python3"
  },
  "language_info": {
   "codemirror_mode": {
    "name": "ipython",
    "version": 3
   },
   "file_extension": ".py",
   "mimetype": "text/x-python",
   "name": "python",
   "nbconvert_exporter": "python",
   "pygments_lexer": "ipython3",
   "version": "3.8.5"
  }
 },
 "nbformat": 4,
 "nbformat_minor": 5
}
