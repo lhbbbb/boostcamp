{
 "cells": [
  {
   "cell_type": "markdown",
   "id": "talented-arctic",
   "metadata": {},
   "source": [
    "# collections\n",
    "- List, Tuple, Dict에 대한 Python Built-in 확장 자료 구조(모듈)\n",
    "- 편의성, 실행 효율 등을 사용자에게 제공함\n",
    "- 아래의 모듈이 존재한다\n",
    "    - deque\n",
    "    - Counter\n",
    "    - OrderedDict\n",
    "    - defaultdict\n",
    "    - namedtuple"
   ]
  },
  {
   "cell_type": "markdown",
   "id": "tropical-cycling",
   "metadata": {},
   "source": [
    "## deque\n",
    "stack과 queue를 지원하는 모듈이다. List에 비해 효율적인 자료 저장 방식을 지원하기 때문에 더 빠르다.  \n",
    "기존 list 형태의 함수를 모두 지원한다."
   ]
  },
  {
   "cell_type": "code",
   "execution_count": 2,
   "id": "attached-evidence",
   "metadata": {},
   "outputs": [
    {
     "name": "stdout",
     "output_type": "stream",
     "text": [
      "2.47 ms ± 34.6 µs per loop (mean ± std. dev. of 7 runs, 100 loops each)\n"
     ]
    }
   ],
   "source": [
    "from collections import deque\n",
    "def g_list():\n",
    "    lst = []\n",
    "    for _ in range(100):\n",
    "        for i in range(100):\n",
    "            lst.append(i)\n",
    "            lst.pop()\n",
    "\n",
    "%timeit g_list()"
   ]
  },
  {
   "cell_type": "markdown",
   "id": "broke-being",
   "metadata": {},
   "source": [
    "`%timeit` 은 jupyter notebook에서 여러 특별한 명령어 중 속도를 재는 모듈이다.  \n",
    "자주 사용할 것 같으니 기억해두자."
   ]
  },
  {
   "cell_type": "code",
   "execution_count": 3,
   "id": "beneficial-purse",
   "metadata": {},
   "outputs": [
    {
     "name": "stdout",
     "output_type": "stream",
     "text": [
      "875 µs ± 8.27 µs per loop (mean ± std. dev. of 7 runs, 1000 loops each)\n"
     ]
    }
   ],
   "source": [
    "def deque_list():\n",
    "    lst = deque()\n",
    "    for _ in range(100):\n",
    "        for i in range(100):\n",
    "            lst.append(i)\n",
    "            lst.pop()\n",
    "            \n",
    "%timeit deque_list()"
   ]
  },
  {
   "cell_type": "markdown",
   "id": "responsible-internship",
   "metadata": {},
   "source": [
    "확실히 그냥 list에 비해 deque가 빠른 것을 볼 수 있다."
   ]
  }
 ],
 "metadata": {
  "kernelspec": {
   "display_name": "Python 3",
   "language": "python",
   "name": "python3"
  },
  "language_info": {
   "codemirror_mode": {
    "name": "ipython",
    "version": 3
   },
   "file_extension": ".py",
   "mimetype": "text/x-python",
   "name": "python",
   "nbconvert_exporter": "python",
   "pygments_lexer": "ipython3",
   "version": "3.8.5"
  }
 },
 "nbformat": 4,
 "nbformat_minor": 5
}
